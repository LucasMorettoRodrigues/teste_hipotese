{
 "cells": [
  {
   "cell_type": "markdown",
   "metadata": {},
   "source": [
    "# Teste de Hipóteses - Teste A/B - Z test\n",
    "\n",
    "Guia prático para realização de:\n",
    "\n",
    " - Teste de Hipóteses\n",
    " - Teste A/B\n",
    " - Teste Z\n",
    " - Calculo de Power\n",
    " - Calculo de Valor Z\n",
    " - Calculo de Valor P\n",
    " - Plot de distribuições"
   ]
  },
  {
   "cell_type": "code",
   "execution_count": 16,
   "metadata": {},
   "outputs": [],
   "source": [
    "# Importando bibliotecas\n",
    "\n",
    "import scipy.stats as scs\n",
    "import pandas as pd\n",
    "import numpy as np\n",
    "from matplotlib import pyplot as plt\n",
    "import seaborn as sns\n",
    "sns.set_style('darkgrid')"
   ]
  },
  {
   "cell_type": "code",
   "execution_count": 17,
   "metadata": {},
   "outputs": [],
   "source": [
    "# Função para gerar os dados\n",
    "\n",
    "def generate_data(N_A, N_B, p_A, p_B, control_label='A', test_label='B'):\n",
    "\n",
    "    data = []\n",
    "\n",
    "    N = N_A + N_B\n",
    "\n",
    "    group_bern = scs.bernoulli(0.5)\n",
    "\n",
    "    A_bern = scs.bernoulli(p_A)\n",
    "    B_bern = scs.bernoulli(p_B)\n",
    "\n",
    "    for idx in range(N):\n",
    "        # initite empty row\n",
    "        row = {}\n",
    "        # for 'ts' column\n",
    "        # assign group based on 50/50 probability\n",
    "        row['group'] = group_bern.rvs()\n",
    "\n",
    "        if row['group'] == 0:\n",
    "            # assign conversion based on provided parameters\n",
    "            row['converted'] = A_bern.rvs()\n",
    "        else:\n",
    "            row['converted'] = B_bern.rvs()\n",
    "        # collect row into data container\n",
    "        data.append(row)\n",
    "\n",
    "    # convert data into pandas dataframe\n",
    "    df = pd.DataFrame(data)\n",
    "\n",
    "    # transform group labels of 0s and 1s to user-defined group labels\n",
    "    df['group'] = df['group'].apply(\n",
    "        lambda x: control_label if x == 0 else test_label)\n",
    "\n",
    "    return df"
   ]
  },
  {
   "cell_type": "code",
   "execution_count": 26,
   "metadata": {},
   "outputs": [],
   "source": [
    "# Gerando os dados\n",
    "\n",
    "N_A = 500\n",
    "N_B = 550\n",
    "bcr = 0.09  # baseline conversion rate\n",
    "d_hat = 0.12  # difference between the groups\n",
    "\n",
    "ab_data = generate_data(N_A, N_B, bcr, d_hat)"
   ]
  },
  {
   "cell_type": "code",
   "execution_count": 27,
   "metadata": {},
   "outputs": [
    {
     "data": {
      "text/html": [
       "<div>\n",
       "<style scoped>\n",
       "    .dataframe tbody tr th:only-of-type {\n",
       "        vertical-align: middle;\n",
       "    }\n",
       "\n",
       "    .dataframe tbody tr th {\n",
       "        vertical-align: top;\n",
       "    }\n",
       "\n",
       "    .dataframe thead th {\n",
       "        text-align: right;\n",
       "    }\n",
       "</style>\n",
       "<table border=\"1\" class=\"dataframe\">\n",
       "  <thead>\n",
       "    <tr style=\"text-align: right;\">\n",
       "      <th></th>\n",
       "      <th>converted</th>\n",
       "      <th>group</th>\n",
       "    </tr>\n",
       "  </thead>\n",
       "  <tbody>\n",
       "    <tr>\n",
       "      <th>0</th>\n",
       "      <td>0</td>\n",
       "      <td>B</td>\n",
       "    </tr>\n",
       "    <tr>\n",
       "      <th>1</th>\n",
       "      <td>0</td>\n",
       "      <td>B</td>\n",
       "    </tr>\n",
       "  </tbody>\n",
       "</table>\n",
       "</div>"
      ],
      "text/plain": [
       "   converted group\n",
       "0          0     B\n",
       "1          0     B"
      ]
     },
     "execution_count": 27,
     "metadata": {},
     "output_type": "execute_result"
    }
   ],
   "source": [
    "# Visualizando dataframe\n",
    "\n",
    "ab_data.head(2)"
   ]
  },
  {
   "cell_type": "code",
   "execution_count": 28,
   "metadata": {},
   "outputs": [
    {
     "data": {
      "text/html": [
       "<div>\n",
       "<style scoped>\n",
       "    .dataframe tbody tr th:only-of-type {\n",
       "        vertical-align: middle;\n",
       "    }\n",
       "\n",
       "    .dataframe tbody tr th {\n",
       "        vertical-align: top;\n",
       "    }\n",
       "\n",
       "    .dataframe thead th {\n",
       "        text-align: right;\n",
       "    }\n",
       "</style>\n",
       "<table border=\"1\" class=\"dataframe\">\n",
       "  <thead>\n",
       "    <tr style=\"text-align: right;\">\n",
       "      <th></th>\n",
       "      <th>converted</th>\n",
       "      <th>total</th>\n",
       "      <th>rate</th>\n",
       "    </tr>\n",
       "    <tr>\n",
       "      <th>group</th>\n",
       "      <th></th>\n",
       "      <th></th>\n",
       "      <th></th>\n",
       "    </tr>\n",
       "  </thead>\n",
       "  <tbody>\n",
       "    <tr>\n",
       "      <th>A</th>\n",
       "      <td>52</td>\n",
       "      <td>539</td>\n",
       "      <td>0.096475</td>\n",
       "    </tr>\n",
       "    <tr>\n",
       "      <th>B</th>\n",
       "      <td>72</td>\n",
       "      <td>511</td>\n",
       "      <td>0.140900</td>\n",
       "    </tr>\n",
       "  </tbody>\n",
       "</table>\n",
       "</div>"
      ],
      "text/plain": [
       "       converted  total      rate\n",
       "group                            \n",
       "A             52    539  0.096475\n",
       "B             72    511  0.140900"
      ]
     },
     "execution_count": 28,
     "metadata": {},
     "output_type": "execute_result"
    }
   ],
   "source": [
    "# Transformando dados\n",
    "\n",
    "data = ab_data.pivot_table(values='converted', index='group', aggfunc=np.sum)\n",
    "data['total'] = ab_data.pivot_table(values='converted', index='group', aggfunc=lambda x: len(x))\n",
    "data['rate'] = ab_data.pivot_table(values='converted', index='group')\n",
    "data"
   ]
  },
  {
   "cell_type": "markdown",
   "metadata": {},
   "source": [
    "__Distribuição de Bernoulli__:\n",
    "\n",
    "    Var = p * (1 - p)\n",
    "\n",
    "As distribuição das probabilidades obedece uma __Distribuição Normal__, onde o erro padrão é\n",
    "\n",
    "    std = sqrt ((p * (1 - p)) / n )"
   ]
  },
  {
   "cell_type": "code",
   "execution_count": 35,
   "metadata": {},
   "outputs": [
    {
     "name": "stdout",
     "output_type": "stream",
     "text": [
      "Std de A: 0.012716951197487556\n",
      "Std de B: 0.015391011338929061\n"
     ]
    }
   ],
   "source": [
    "# Plot da distribuição das probabilidades (distribuição normal)\n",
    "\n",
    "p_A = data.rate[0]\n",
    "p_B = data.rate[1]\n",
    "A_total = data.total[0]\n",
    "B_total = data.total[1]\n",
    "\n",
    "SE_A = np.sqrt(p_A * (1-p_A)) / np.sqrt(A_total)\n",
    "SE_B = np.sqrt(p_B * (1-p_B)) / np.sqrt(B_total)\n",
    "\n",
    "print(\"Std de A: {}\".format(SE_A))\n",
    "print(\"Std de B: {}\".format(SE_B))"
   ]
  },
  {
   "cell_type": "code",
   "execution_count": 36,
   "metadata": {},
   "outputs": [
    {
     "data": {
      "image/png": "[encoded data removed]",
      "text/plain": [
       "<Figure size 720x432 with 1 Axes>"
      ]
     },
     "metadata": {},
     "output_type": "display_data"
    }
   ],
   "source": [
    "fig, ax = plt.subplots(figsize=(10,6))\n",
    "x = np.linspace(.025, .23, 1000)\n",
    "yA = scs.norm(p_A, SE_A).pdf(x)\n",
    "ax.plot(x, yA)\n",
    "ax.axvline(x=p_A, c='red', alpha=0.5, linestyle='--')\n",
    "yB = scs.norm(p_B, SE_B).pdf(x)\n",
    "ax.plot(x, yB)\n",
    "ax.axvline(x=p_B, c='blue', alpha=0.5, linestyle='--')\n",
    "plt.xlabel('Converted Proportion')\n",
    "plt.ylabel('PDF')\n",
    "plt.show()"
   ]
  },
  {
   "cell_type": "markdown",
   "metadata": {},
   "source": [
    "### Teste de Hipóteses:\n",
    "\n",
    "__H0 - Hipótese Nula__: A alteração de A para B __não provoca mudança__ na taxa de conversão.\n",
    "\n",
    "__H1 - Hipótese Alternativa__: A alteração de A para B __provoca mudança__ na taxa de conversão.\n",
    "\n",
    "__Nível de significância (ALPHA)__: Definido antes do teste (frequentemenet 0.05 ou 5%), é o nível que determina a proporção dos resultados amostrais como sendo devido ao acaso. Também é igual a probabilidade de se rejeitar a hipótese nula quando ela é verdadeira (Erro tipo 1)\n",
    "\n",
    "__Power__: é a probabilidade de rejeitar a hipótese nula, sendo a hipótese nula falsa.\n",
    "\n",
    "Tipos de erros:\n",
    "\n",
    "<img src=\"hypothesis_testing.png\" alt=\"Drawing\" style=\"width: 500px;\"/>\n",
    "\n",
    "Plot dos possíveis resultados do teste de hipóteses:\n",
    "\n",
    "<img src=\"TypesError.png\" alt=\"Drawing\" style=\"width: 500px;\"/>"
   ]
  },
  {
   "cell_type": "markdown",
   "metadata": {},
   "source": [
    "__Teste de estatística__:\n",
    "\n",
    "    d = p_B - p_A\n",
    "    \n",
    "    O desvio padrão agrupado é\n",
    "    \n",
    "    std_d = sqrt (((p_A * (1 - p_A)) / n_A) + ((p_B * (1 - p_B)) / n_B))\n",
    "    \n",
    "    ou\n",
    "    \n",
    "    std_d = sqrt (p_P * (1 - p_P) * ((1/n_A) + (1/n_B)))\n",
    "    \n",
    "    onde p_P é a probabilidade agrupada:\n",
    "    \n",
    "    p_P = ((p_A * n_A + p_B * n_B) / (n_A + n_B))"
   ]
  },
  {
   "cell_type": "code",
   "execution_count": 30,
   "metadata": {},
   "outputs": [
    {
     "name": "stdout",
     "output_type": "stream",
     "text": [
      "d: 0.04442524207690547 \n",
      "std_d: 0.019965071444758797\n"
     ]
    }
   ],
   "source": [
    "# Calculando 'd' e o desvio padrão agrupado\n",
    "\n",
    "d = p_B - p_A\n",
    "\n",
    "std_d = np.sqrt(((p_A * (1 - p_A)) / A_total) + ((p_B * (1 - p_B)) / B_total))\n",
    "\n",
    "print(\"d: {} \\nstd_d: {}\".format(d, std_d))"
   ]
  },
  {
   "cell_type": "code",
   "execution_count": 31,
   "metadata": {},
   "outputs": [
    {
     "data": {
      "image/png": "[encoded data removed]",
      "text/plain": [
       "<Figure size 720x432 with 1 Axes>"
      ]
     },
     "metadata": {},
     "output_type": "display_data"
    }
   ],
   "source": [
    "# Plot das distribuições de probabilidade das hipóteses\n",
    "fig, ax = plt.subplots(figsize=(10,6))\n",
    "x = np.linspace(-0.1, .16, 1000)\n",
    "yA = scs.norm(0, std_d).pdf(x)\n",
    "ax.plot(x, yA)\n",
    "yB = scs.norm(d, std_d).pdf(x)\n",
    "ax.plot(x, yB)\n",
    "\n",
    "# Determinando e desenhando a linha de nível de significância 0.05\n",
    "alpha = 0.05\n",
    "z = scs.norm().ppf(1 - alpha)\n",
    "confidence_interval = z*std_d\n",
    "ax.axvline(x=confidence_interval, c='lightblue', linestyle='--')\n",
    "plt.xlabel('Proportion')\n",
    "\n",
    "ax.fill_between(x, 0, yB, color='lightgreen', alpha='0.5', where=(x > confidence_interval))\n",
    "ax.fill_between(x, 0, yA, color='yellow', alpha='0.6', where=(x > confidence_interval))\n",
    "ax.fill_between(x, 0, yB, color='red', alpha='0.3', where=(x < confidence_interval))\n",
    "\n",
    "null = scs.norm(0, std_d)\n",
    "alternative = scs.norm(d, std_d)\n",
    "\n",
    "# Calculando power\n",
    "ax.text(-3 * std_d, null.pdf(0), 'power = {0:.3f}'.format(1 - alternative.cdf(confidence_interval)), fontsize=12, ha='right', color='k')\n",
    "\n",
    "plt.show()"
   ]
  },
  {
   "cell_type": "markdown",
   "metadata": {},
   "source": [
    "### Z-test:\n",
    "\n",
    "T-test é o teste estatístico mais comum para comparar dois grupos e poderia ser usado aqui. \n",
    "Mas o teste mais correto é, no entanto, o teste z para comparar duas PROPORÇÕES.\n",
    "\n",
    "O seguinte deve ser verdadeiro para z-tests:\n",
    "1. As duas amostras devem ser independentes.\n",
    "2. Os tamanhos das amostras devem ser suficientemente grandes (> 30) para a distribuição a ser aplicada.\n",
    "3. As amostras devem ser selecionadas aleatoriamente.\n",
    "\n",
    "__Z_score__:\n",
    "\n",
    "    Z = ((p_B - p_A) / std_d)"
   ]
  },
  {
   "cell_type": "code",
   "execution_count": 32,
   "metadata": {},
   "outputs": [
    {
     "name": "stdout",
     "output_type": "stream",
     "text": [
      "z score: 2.225148164374234\n"
     ]
    }
   ],
   "source": [
    "# Calculando Z score\n",
    "\n",
    "Z = (p_B - p_A) / std_d\n",
    "\n",
    "print(\"z score: {}\".format(Z))"
   ]
  },
  {
   "cell_type": "markdown",
   "metadata": {},
   "source": [
    "__p_value__:\n",
    "\n",
    "    O valor-p é a chance de obter uma estatística de teste mais extrema assumindo que a hipótese nula seja verdadeira.\n",
    "\n",
    "    Corresponde a integral da porção da distribuição normal à direita do valor Z."
   ]
  },
  {
   "cell_type": "code",
   "execution_count": 33,
   "metadata": {},
   "outputs": [
    {
     "name": "stdout",
     "output_type": "stream",
     "text": [
      "p value: 0.013035646654604438\n"
     ]
    }
   ],
   "source": [
    "# Calculando valor p\n",
    "\n",
    "p_value = 1 - scs.norm.cdf(Z)\n",
    "\n",
    "print(\"p value: {}\".format(p_value))"
   ]
  },
  {
   "cell_type": "code",
   "execution_count": 34,
   "metadata": {},
   "outputs": [
    {
     "name": "stdout",
     "output_type": "stream",
     "text": [
      "O valor p é menor que o nível de significancia alpha = 0.05, logo a hípotese nula deve ser rejeitada, e estatísticamente há diferença entre A e B\n"
     ]
    }
   ],
   "source": [
    "if p_value > 0.05:\n",
    "    print(\"O valor p é maior que o nível de significancia alpha = 0.05, logo a hípotese nula não pode ser rejeitada, e estatísticamente não há diferença entre A e B\")\n",
    "else:\n",
    "    print(\"O valor p é menor que o nível de significancia alpha = 0.05, logo a hípotese nula deve ser rejeitada, e estatísticamente há diferença entre A e B\")"
   ]
  },
  {
   "cell_type": "markdown",
   "metadata": {},
   "source": [
    "#### Bibliografia:\n",
    "\n",
    "https://towardsdatascience.com/the-math-behind-a-b-testing-with-example-code-part-1-of-2-7be752e1d06f"
   ]
  }
 ],
 "metadata": {
  "kernelspec": {
   "display_name": "Python 3",
   "language": "python",
   "name": "python3"
  },
  "language_info": {
   "codemirror_mode": {
    "name": "ipython",
    "version": 3
   },
   "file_extension": ".py",
   "mimetype": "text/x-python",
   "name": "python",
   "nbconvert_exporter": "python",
   "pygments_lexer": "ipython3",
   "version": "3.7.1"
  }
 },
 "nbformat": 4,
 "nbformat_minor": 2
}
